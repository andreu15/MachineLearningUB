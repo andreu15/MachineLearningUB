{
 "cells": [
  {
   "cell_type": "code",
   "execution_count": 1,
   "metadata": {},
   "outputs": [],
   "source": [
    "import sklearn\n",
    "import numpy as np\n",
    "import matplotlib.pyplot as plt\n",
    "import copy"
   ]
  },
  {
   "cell_type": "code",
   "execution_count": 4,
   "metadata": {},
   "outputs": [],
   "source": [
    "class L1_Decoder():\n",
    "    \n",
    "    \n",
    "    def distance(self, code1, code2):\n",
    "        \n",
    "        distance = 0\n",
    "        for i in range(len(code1)):\n",
    "            \n",
    "            distance += abs(code1[i]-code2[i])\n",
    "            \n",
    "        return 0.5*distance\n",
    "            \n",
    "    \n",
    "    def predict(self, EC, code):\n",
    "        \n",
    "        distances = []\n",
    "        \n",
    "        for code_class in EC:\n",
    "            \n",
    "            distances.append(self.distance(code_class, code))\n",
    "\n",
    "        distances = np.array(distances)\n",
    "        \n",
    "        \n",
    "        return np.argmin(distances)\n",
    "\n",
    "\n",
    "class L2_Decoder():\n",
    "    \n",
    "    \n",
    "    def distance(self, code1, code2):\n",
    "        \n",
    "        distance = 0\n",
    "        for i in range(len(code1)):\n",
    "            \n",
    "            distance += (code1[i]-code2[i]) ** 2\n",
    "            \n",
    "        return np.sqrt(distance)\n",
    "            \n",
    "    \n",
    "    def predict(self, EC, code):\n",
    "        \n",
    "        distances = []\n",
    "        \n",
    "        for code_class in EC:\n",
    "            \n",
    "            distances.append(self.distance(code_class, code))\n",
    "\n",
    "        distances = np.array(distances)\n",
    "        \n",
    "        \n",
    "        return np.argmin(distances)\n",
    "    \n",
    "        \n",
    "class Ecoc():\n",
    "    \n",
    "    def __init__(self, EC, classifier,  use_decoding='L2' ):\n",
    "        \n",
    "        self.EC = EC\n",
    "        self.classifier = classifier\n",
    "        \n",
    "        if use_decoding == 'L2':  self.decoder  = L2_Decoder()\n",
    "        if use_decoding == 'L1': self.decoder = L1_Decoder()\n",
    "        self.classifiers = []\n",
    "    \n",
    "    def create_problem(self, X, y, column):\n",
    "        \n",
    "        Xcol = []\n",
    "        ycol = []\n",
    "        \n",
    "        for data, label in zip(X, y):\n",
    "            \n",
    "            if column[label] == 1:\n",
    "                \n",
    "                Xcol.append(data)\n",
    "                ycol.append(1)\n",
    "                \n",
    "            elif column[label] == -1:\n",
    "                \n",
    "                Xcol.append(data)\n",
    "                ycol.append(-1)\n",
    "            \n",
    "            else: pass #for this column this class is not considered\n",
    "        \n",
    "        return Xcol, ycol\n",
    "        \n",
    "    def fit(self, X, y):\n",
    "        \n",
    "        if len(self.EC) != len(np.unique(y)): \n",
    "            \n",
    "            print(\"ECOC matrix bad defined, avorting process\")\n",
    "            \n",
    "        else:\n",
    "            \n",
    "            for column in range(len(self.EC[0])):\n",
    "                \n",
    "                Xcolumn, ycolumn = self.create_problem(X, y, self.EC[:, column])\n",
    "                \n",
    "                classifier_col = copy.copy(self.classifier)\n",
    "                \n",
    "                classifier_col.fit(Xcolumn, ycolumn)\n",
    "                \n",
    "                self.classifiers.append(classifier_col)\n",
    "                \n",
    "    def predict(self, X, show_code=False):\n",
    "        \n",
    "        decoded_codes = []\n",
    "        for elem in X:\n",
    "            code = []\n",
    "\n",
    "            for h in self.classifiers:\n",
    "\n",
    "                code.append(h.predict(elem.reshape(1,-1))[0])\n",
    "\n",
    "            if show_code: print(\"Code for this sample is {}\".format(code))\n",
    "            decoded_code = self.decode(code)\n",
    "            decoded_codes.append(decoded_code)\n",
    "            \n",
    "        return np.array(decoded_codes)\n",
    "        \n",
    "        \n",
    "    def decode(self, code):\n",
    "        \n",
    "        pred = self.decoder.predict(self.EC, code)\n",
    "        \n",
    "        return pred\n",
    "    \n",
    "    def evaluate_accuracy(self, X, y):\n",
    "        \n",
    "        yhat = self.predict(X)\n",
    "        \n",
    "        errs = (yhat-y).sum()\n",
    "        \n",
    "        accuracy = 1 - errs/len(y)\n",
    "        \n",
    "        print(\"Estimated accuracy is {}%\".format(accuracy*100))\n",
    "        \n",
    "        return accuracy\n",
    "        "
   ]
  },
  {
   "cell_type": "markdown",
   "metadata": {},
   "source": [
    "# Toy problem"
   ]
  },
  {
   "cell_type": "code",
   "execution_count": 3,
   "metadata": {},
   "outputs": [],
   "source": [
    "from sklearn.datasets.samples_generator import make_blobs"
   ]
  },
  {
   "cell_type": "code",
   "execution_count": 6,
   "metadata": {},
   "outputs": [
    {
     "data": {
      "image/png": "[encoded data removed]",
      "text/plain": [
       "<Figure size 432x288 with 1 Axes>"
      ]
     },
     "metadata": {},
     "output_type": "display_data"
    }
   ],
   "source": [
    "X, y = make_blobs(n_samples=200, centers=4, n_features=2, cluster_std=0.9)\n",
    "\n",
    "\n",
    "indices0 = np.where(y == 0)\n",
    "indices1 = np.where(y == 1)\n",
    "indices2 = np.where(y == 2)\n",
    "indices3 = np.where(y == 3)\n",
    "\n",
    "plt.scatter(X[indices0,0], X[indices0,1], label='Class 0')\n",
    "plt.scatter(X[indices1,0], X[indices1,1], label='Class 1')\n",
    "plt.scatter(X[indices2,0], X[indices2,1], label='Class 2')\n",
    "plt.scatter(X[indices3,0], X[indices3,1], label='Class 3')\n",
    "plt.legend()\n",
    "plt.show()"
   ]
  },
  {
   "cell_type": "code",
   "execution_count": 7,
   "metadata": {},
   "outputs": [
    {
     "name": "stdout",
     "output_type": "stream",
     "text": [
      "[[ 1  0  1 -1]\n",
      " [-1  1  0  1]\n",
      " [ 1 -1  1  1]\n",
      " [ 0  1 -1 -1]]\n"
     ]
    }
   ],
   "source": [
    "ECMatrix = np.array([[1,0,1,-1], [-1,1,0,1], [1,-1,1,1], [0, 1,-1,-1]])\n",
    "print(ECMatrix)"
   ]
  },
  {
   "cell_type": "markdown",
   "metadata": {},
   "source": [
    "# Using SVM"
   ]
  },
  {
   "cell_type": "code",
   "execution_count": 8,
   "metadata": {},
   "outputs": [],
   "source": [
    "from sklearn import svm\n",
    "\n",
    "svm_classifier = svm.SVC()\n",
    "\n",
    "ECOC_classifier = Ecoc(ECMatrix, svm_classifier)"
   ]
  },
  {
   "cell_type": "code",
   "execution_count": 9,
   "metadata": {},
   "outputs": [],
   "source": [
    "ECOC_classifier.fit(X, y)"
   ]
  },
  {
   "cell_type": "markdown",
   "metadata": {},
   "source": [
    "### Example of prediction\n",
    "\n",
    "Input must be shaped as [nb_samples, n_features]."
   ]
  },
  {
   "cell_type": "code",
   "execution_count": 10,
   "metadata": {},
   "outputs": [
    {
     "name": "stdout",
     "output_type": "stream",
     "text": [
      "Code for this sample is [1, 1, -1, -1]\n",
      "Code for this sample is [-1, 1, 1, 1]\n",
      "Code for this sample is [1, -1, 1, 1]\n",
      "Code for this sample is [1, 1, 1, -1]\n",
      "Code for this sample is [-1, 1, 1, 1]\n",
      "Code for this sample is [1, 1, -1, -1]\n",
      "Code for this sample is [-1, 1, 1, 1]\n",
      "Code for this sample is [1, 1, -1, -1]\n",
      "Code for this sample is [1, 1, -1, -1]\n",
      "Code for this sample is [1, -1, 1, 1]\n",
      "Code for this sample is [1, 1, 1, -1]\n"
     ]
    },
    {
     "data": {
      "text/plain": [
       "(array([3, 1, 2, 0, 1, 3, 1, 3, 3, 2, 0], dtype=int64),\n",
       " array([3, 1, 2, 0, 1, 3, 1, 3, 3, 2, 0]))"
      ]
     },
     "execution_count": 10,
     "metadata": {},
     "output_type": "execute_result"
    }
   ],
   "source": [
    "ECOC_classifier.predict(X[34:45], show_code=True), y[34:45]"
   ]
  },
  {
   "cell_type": "markdown",
   "metadata": {},
   "source": [
    "# Visualize results"
   ]
  },
  {
   "cell_type": "code",
   "execution_count": 17,
   "metadata": {},
   "outputs": [],
   "source": [
    "xx,yy = np.meshgrid(np.linspace(-12,11,200),np.linspace(-13,10,200))\n",
    "viz=np.c_[xx.ravel(),yy.ravel()]"
   ]
  },
  {
   "cell_type": "code",
   "execution_count": 18,
   "metadata": {},
   "outputs": [],
   "source": [
    "z = ECOC_classifier.predict(viz)"
   ]
  },
  {
   "cell_type": "code",
   "execution_count": 19,
   "metadata": {},
   "outputs": [
    {
     "data": {
      "image/png": "[encoded data removed]",
      "text/plain": [
       "<Figure size 432x288 with 1 Axes>"
      ]
     },
     "metadata": {},
     "output_type": "display_data"
    }
   ],
   "source": [
    "plt.figure()\n",
    "plt.scatter(X[indices0,0], X[indices0,1], label='Class 0')\n",
    "plt.scatter(X[indices1,0], X[indices1,1], label='Class 1')\n",
    "plt.scatter(X[indices2,0], X[indices2,1], label='Class 2')\n",
    "plt.scatter(X[indices3,0], X[indices3,1], label='Class 3')\n",
    "plt.imshow(z.reshape((200,200)), interpolation='bilinear', origin='lower', extent=(-12,11,-13,10),alpha=0.3, vmin=0, vmax=1)\n",
    "plt.contour(xx,yy,z.reshape((200,200)))\n",
    "plt.legend()\n",
    "plt.show()"
   ]
  },
  {
   "cell_type": "code",
   "execution_count": 20,
   "metadata": {},
   "outputs": [
    {
     "name": "stdout",
     "output_type": "stream",
     "text": [
      "Estimated accuracy is 100.0%\n"
     ]
    },
    {
     "data": {
      "text/plain": [
       "1.0"
      ]
     },
     "execution_count": 20,
     "metadata": {},
     "output_type": "execute_result"
    }
   ],
   "source": [
    "ECOC_classifier.evaluate_accuracy(X,y)"
   ]
  },
  {
   "cell_type": "markdown",
   "metadata": {},
   "source": [
    "# Using Logistic Regression"
   ]
  },
  {
   "cell_type": "code",
   "execution_count": 21,
   "metadata": {},
   "outputs": [],
   "source": [
    "from sklearn.linear_model import LogisticRegression\n",
    "\n",
    "logReg = LogisticRegression()\n",
    "\n",
    "ECOC_classifier2 = Ecoc(ECMatrix, logReg)"
   ]
  },
  {
   "cell_type": "code",
   "execution_count": 22,
   "metadata": {},
   "outputs": [],
   "source": [
    "ECOC_classifier2.fit(X, y)"
   ]
  },
  {
   "cell_type": "code",
   "execution_count": 23,
   "metadata": {},
   "outputs": [
    {
     "name": "stdout",
     "output_type": "stream",
     "text": [
      "Code for this sample is [-1, 1, -1, -1]\n",
      "Code for this sample is [-1, 1, -1, 1]\n",
      "Code for this sample is [1, -1, 1, 1]\n",
      "Code for this sample is [1, -1, 1, -1]\n",
      "Code for this sample is [-1, 1, -1, 1]\n",
      "Code for this sample is [-1, 1, -1, -1]\n",
      "Code for this sample is [-1, 1, -1, 1]\n",
      "Code for this sample is [-1, 1, -1, -1]\n",
      "Code for this sample is [-1, 1, -1, -1]\n",
      "Code for this sample is [1, -1, 1, 1]\n",
      "Code for this sample is [1, -1, 1, -1]\n"
     ]
    },
    {
     "data": {
      "text/plain": [
       "(array([3, 1, 2, 0, 1, 3, 1, 3, 3, 2, 0], dtype=int64),\n",
       " array([3, 1, 2, 0, 1, 3, 1, 3, 3, 2, 0]))"
      ]
     },
     "execution_count": 23,
     "metadata": {},
     "output_type": "execute_result"
    }
   ],
   "source": [
    "ECOC_classifier2.predict(X[34:45], show_code=True), y[34:45]"
   ]
  },
  {
   "cell_type": "code",
   "execution_count": 24,
   "metadata": {},
   "outputs": [],
   "source": [
    "z = ECOC_classifier2.predict(viz)"
   ]
  },
  {
   "cell_type": "code",
   "execution_count": 25,
   "metadata": {},
   "outputs": [
    {
     "data": {
      "image/png": "[encoded data removed]",
      "text/plain": [
       "<Figure size 432x288 with 1 Axes>"
      ]
     },
     "metadata": {},
     "output_type": "display_data"
    }
   ],
   "source": [
    "plt.scatter(X[indices0,0], X[indices0,1], label='Class 0')\n",
    "plt.scatter(X[indices1,0], X[indices1,1], label='Class 1')\n",
    "plt.scatter(X[indices2,0], X[indices2,1], label='Class 2')\n",
    "plt.scatter(X[indices3,0], X[indices3,1], label='Class 3')\n",
    "plt.imshow(z.reshape((200,200)), interpolation='bilinear', origin='lower', extent=(-12,11,-13,10),alpha=0.3, vmin=0, vmax=1)\n",
    "plt.contour(xx,yy,z.reshape((200,200)))\n",
    "plt.legend()\n",
    "plt.show()"
   ]
  },
  {
   "cell_type": "code",
   "execution_count": 26,
   "metadata": {},
   "outputs": [
    {
     "name": "stdout",
     "output_type": "stream",
     "text": [
      "Estimated accuracy is 100.0%\n"
     ]
    },
    {
     "data": {
      "text/plain": [
       "1.0"
      ]
     },
     "execution_count": 26,
     "metadata": {},
     "output_type": "execute_result"
    }
   ],
   "source": [
    "ECOC_classifier2.evaluate_accuracy(X, y)"
   ]
  }
 ],
 "metadata": {
  "kernelspec": {
   "display_name": "Python 3",
   "language": "python",
   "name": "python3"
  },
  "language_info": {
   "codemirror_mode": {
    "name": "ipython",
    "version": 3
   },
   "file_extension": ".py",
   "mimetype": "text/x-python",
   "name": "python",
   "nbconvert_exporter": "python",
   "pygments_lexer": "ipython3",
   "version": "3.6.5"
  }
 },
 "nbformat": 4,
 "nbformat_minor": 2
}
